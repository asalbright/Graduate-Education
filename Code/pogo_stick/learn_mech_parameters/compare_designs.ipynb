{
 "cells": [
  {
   "cell_type": "markdown",
   "source": [
    "# Compare Designs by altering Spring K and Damping C"
   ],
   "metadata": {}
  },
  {
   "cell_type": "markdown",
   "source": [
    "## Save Figures?"
   ],
   "metadata": {}
  },
  {
   "cell_type": "code",
   "execution_count": null,
   "source": [
    "SAVE_FIG = False"
   ],
   "outputs": [],
   "metadata": {}
  },
  {
   "cell_type": "markdown",
   "source": [
    "## Imports"
   ],
   "metadata": {}
  },
  {
   "cell_type": "code",
   "execution_count": null,
   "source": [
    "import csv\r\n",
    "import re\r\n",
    "import glob\r\n",
    "import datetime\r\n",
    "from pathlib import Path\r\n",
    "import pandas\r\n",
    "import matplotlib\r\n",
    "import matplotlib.pyplot as plt\r\n",
    "import numpy as np\r\n",
    "\r\n",
    "from pogo_stick_jumping.jumping_ODE_Nonlinear import PogoODEnonlinear"
   ],
   "outputs": [],
   "metadata": {}
  },
  {
   "cell_type": "markdown",
   "source": [
    "## Set Up the Save Paths"
   ],
   "metadata": {}
  },
  {
   "cell_type": "code",
   "execution_count": null,
   "source": [
    "current_path = Path.cwd()\r\n",
    "save_path = current_path / \"Compare_Data\"\r\n",
    "if not os.path.exists(save_path): os.makedirs(save_path)"
   ],
   "outputs": [],
   "metadata": {}
  },
  {
   "cell_type": "markdown",
   "source": [
    "## Set up env and run tests with different values of K and C"
   ],
   "metadata": {}
  },
  {
   "cell_type": "code",
   "execution_count": null,
   "source": [
    "m_rod = 0.175               # mass of the pogo-stick rod (kg)\r\n",
    "m_act = 1.003               # mass of the pogo-stick rod (kg)\r\n",
    "mass = m_rod + m_act        # total mass (kg)\r\n",
    "f = 11.13                   # natural freq. (rad)\r\n",
    "wn = f * (2 * np.pi)        # Robot frequency (rad/s)\r\n",
    "zeta = 0.01                 # Robot damping ratio\r\n",
    "c = 2 * zeta * wn * mass    # Calculate damping coeff\r\n",
    "k = mass * wn**2            # Calulate spring constant\r\n",
    "A_max = 63.2      # max acceleration of actuator (m/s^2)\r\n",
    "V_max = 2.0       # max velocity of actuator (m/s)\r\n",
    "Distance = 0.008  # Distance to move actuator in jump command (m)\r\n",
    "Spacing = 0.75 * (1 / f)  # Space commands by 0.5*period of oscillation\r\n",
    "\r\n",
    "\r\n",
    "x_init = 0.0\r\n",
    "x_dot_init = 0.0\r\n",
    "x_act_init = 0.0\r\n",
    "x_act_dot_init = 0.0\r\n",
    "\r\n",
    "spring_k = 5760\r\n",
    "zeta = 0.01\r\n",
    "variance = 0.75\r\n",
    "min_spring_k = spring_k - variance * spring_k\r\n",
    "max_spring_k = spring_k + variance * spring_k\r\n",
    "min_zeta = zeta - variance * zeta\r\n",
    "max_zeta = zeta + variance * zeta\r\n",
    "\r\n",
    "spring_ks = np.linspace(min_spring_k, max_spring_k, 3, endpoint=True)\r\n",
    "zetas = np.linspace(min_zeta, max_zeta, 3, endpoint=True)\r\n",
    "\r\n",
    "for k in spring_ks:\r\n",
    "    for zeta in zetas:\r\n",
    "        \r\n",
    "        pogo_stick = PogoODEnonlinear(m_act, m_rod, k, zeta, A_max, V_max, Distance, Spacing)\r\n",
    "\r\n",
    "        x0 = [x_init, x_dot_init, x_act_init, x_act_dot_init]\r\n",
    "        sim_time, timeseries = pogo_stick.run_simulation(x0, duration=1.0)\r\n",
    "        data = timeseries[0]\r\n",
    "        header = \"x\"\r\n",
    "        data_name = f\"kp{k:.4f}kv{zeta:.4f}\"\r\n",
    "        data_path = save_path / f\"{data_name}.csv\"\r\n",
    "        np.savetxt(data_path, data, header=header, delimiter=',')\r\n"
   ],
   "outputs": [],
   "metadata": {}
  },
  {
   "cell_type": "markdown",
   "source": [
    "## Load in the Results"
   ],
   "metadata": {}
  },
  {
   "cell_type": "code",
   "execution_count": null,
   "source": [
    "# sort the files read in\r\n",
    "numbers = re.compile(r'(\\d+)')\r\n",
    "def numericalSort(value):\r\n",
    "    parts = numbers.split(value)\r\n",
    "    parts[1::2] = map(int, parts[1::2])\r\n",
    "    return parts\r\n",
    "\r\n",
    "files = sorted(glob.glob(str(save_path / '*.csv')), key=numericalSort)\r\n",
    "\r\n",
    "print(f'Number of Agents found: {len(files)}\\n')\r\n",
    "\r\n",
    "# organize the data into dictionaries\r\n",
    "data = {}                                                                                   # dict to store agent data\r\n",
    "file_names = []                                                                             # list to store file names for naming agents in dict\r\n",
    "for f in files:\r\n",
    "    file_name = os.path.basename(f)                                                         # get file name and split it up by\r\n",
    "    file_name = re.split('[_ .]', file_name)\r\n",
    "    # uncomment print statment to determine what numbers are needed in file_name\r\n",
    "    print(file_name)\r\n",
    "    file_name = f\"{file_name[0]}-{file_name[1]}{file_name[2]}\"                                                 # choose the parts of file name you want to keep using the previous print statment\r\n",
    "    file_names.append(file_name)                                                            # add the agents name to the list of file names\r\n",
    "    df = pandas.read_csv(f)                                                                 # read in the first .csv file\r\n",
    "    df_columns = list(df)                                                                   # get the list of data column names\r\n",
    "    for column in df_columns:                                                               \r\n",
    "        df_columns[df_columns.index(column)] = column.replace(' ', '').replace('#', '')     # get rid of spaces and #'s in the column names\r\n",
    "    df.columns = df_columns                                                                 # set the .csv file column names to the cleaned up names\r\n",
    "    data[file_name] = df.to_dict('series')                                                  # turn the .csv into a dict and place it in the data dict\r\n",
    "\r\n",
    "    for column in data[file_name]:\r\n",
    "            data[file_name][column] = data[file_name][column].to_numpy()                    # convert the columns in the agent dict in the data dict to numpy arrays\r\n",
    "print(f'\\nAgent Key Names: {list(data)}\\n')                                                    # print out the agents names for using later in plotting\r\n",
    "print(f\"\"\"\\nAgent's Data Key Names: {list(data[next(iter(data))])}\\n\"\"\")                       # print out the data column names for using later in plotting                                                # print out the agents names for using later in plotting"
   ],
   "outputs": [],
   "metadata": {}
  },
  {
   "cell_type": "markdown",
   "source": [
    "## Plot the Results"
   ],
   "metadata": {}
  },
  {
   "cell_type": "code",
   "execution_count": null,
   "source": [
    "# Set the plot size - 3x2 aspect ratio is best\r\n",
    "fig = plt.figure(figsize=(12,12))\r\n",
    "ax = plt.gca()\r\n",
    "\r\n",
    "# Define the X and Y axis labels\r\n",
    "plt.xlabel(r'Time (s)', fontsize=22, weight='bold', labelpad=5)\r\n",
    "plt.ylabel(r'Height (m)', fontsize=22, weight='bold', labelpad=10)\r\n",
    "\r\n",
    "for design in data:\r\n",
    "    height = data[design][\"x\"]\r\n",
    "    time = np.arange(len(height))\r\n",
    "    plt.plot(time, height, linewidth=2, linestyle='-', label=design)\r\n",
    "\r\n",
    "# uncomment below and set limits if needed\r\n",
    "# plt.xlim(0,4)\r\n",
    "# plt.ylim(bottom=None, top=.35)\r\n",
    "\r\n",
    "# Create the legend, then fix the fontsize\r\n",
    "leg = plt.legend(loc='upper right', ncol = 1, fancybox=True)\r\n",
    "ltext  = leg.get_texts()\r\n",
    "plt.setp(ltext,fontsize=18)\r\n",
    "\r\n",
    "# Adjust the page layout filling the page using the new tight_layout command\r\n",
    "plt.tight_layout(pad=0.5)\r\n",
    "\r\n",
    "# save the figure as a high-res pdf in the current folder\r\n",
    "filename = 'RewardVsTime_{}.png'.format(datetime.datetime.now().strftime('%Y-%m-%d_%H%M%S'))\r\n",
    "path = save_path / filename\r\n",
    "if SAVE_FIG is True:\r\n",
    "    plt.savefig(path)\r\n",
    "plt.show()"
   ],
   "outputs": [],
   "metadata": {}
  },
  {
   "cell_type": "code",
   "execution_count": 8,
   "source": [
    "minimum = 0\r\n",
    "maximum = 0\r\n",
    "for design in data:\r\n",
    "    if min(data[design]['x']) < minimum:\r\n",
    "        minimum = min(data[design]['x'])\r\n",
    "    if max(data[design]['x']) > maximum:\r\n",
    "        maximum = max(data[design]['x'])\r\n",
    "print(f\"Max Height is: {maximum}\")\r\n",
    "print(f\"Minimum Height is: {minimum}\")"
   ],
   "outputs": [
    {
     "output_type": "stream",
     "name": "stdout",
     "text": [
      "Max Height is: 0.13089527713757743\n",
      "Minimum Height is: -0.010980637207858152\n"
     ]
    }
   ],
   "metadata": {}
  }
 ],
 "metadata": {
  "orig_nbformat": 4,
  "language_info": {
   "name": "python",
   "version": "3.8.5",
   "mimetype": "text/x-python",
   "codemirror_mode": {
    "name": "ipython",
    "version": 3
   },
   "pygments_lexer": "ipython3",
   "nbconvert_exporter": "python",
   "file_extension": ".py"
  },
  "kernelspec": {
   "name": "python3",
   "display_name": "Python 3.8.5 64-bit ('stablebaselines3': conda)"
  },
  "interpreter": {
   "hash": "9bf3f12e20e8d171ed6b1000dc3ee3f65f6460fe318f7867dfeabe9f95027425"
  }
 },
 "nbformat": 4,
 "nbformat_minor": 2
}